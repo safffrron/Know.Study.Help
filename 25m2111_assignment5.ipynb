{
 "cells": [
  {
   "cell_type": "code",
   "execution_count": null,
   "id": "85efab65",
   "metadata": {},
   "outputs": [
    {
     "name": "stderr",
     "output_type": "stream",
     "text": [
      "Cloning into 'Know.Study.Help'...\n",
      "warning: adding embedded git repository: Know.Study.Help\n",
      "hint: You've added another git repository inside your current repository.\n",
      "hint: Clones of the outer repository will not contain the contents of\n",
      "hint: the embedded repository and will not know how to obtain it.\n",
      "hint: If you meant to add a submodule, use:\n",
      "hint:\n",
      "hint: \tgit submodule add <url> Know.Study.Help\n",
      "hint:\n",
      "hint: If you added this path by mistake, you can remove it from the\n",
      "hint: index with:\n",
      "hint:\n",
      "hint: \tgit rm --cached Know.Study.Help\n",
      "hint:\n",
      "hint: See \"git help submodule\" for more information.\n",
      "hint: Disable this message with \"git config set advice.addEmbeddedRepo false\"\n"
     ]
    }
   ],
   "source": [
    "!git clone https://github.com/safffrron/Know.Study.Help.git\n",
    "!git add .\n",
    "!git commit -m \"made a readme\"\n",
    "!git push orgin main"
   ]
  },
  {
   "cell_type": "code",
   "execution_count": 1,
   "id": "23b2eaa8",
   "metadata": {},
   "outputs": [
    {
     "name": "stdout",
     "output_type": "stream",
     "text": [
      "On branch kislay\n",
      "Untracked files:\n",
      "  (use \"git add <file>...\" to include in what will be committed)\n",
      "\t25m2111_assignment4.ipynb\n",
      "\n",
      "nothing added to commit but untracked files present (use \"git add\" to track)\n"
     ]
    }
   ],
   "source": [
    "!git status "
   ]
  },
  {
   "cell_type": "code",
   "execution_count": 3,
   "id": "1ec59d03",
   "metadata": {},
   "outputs": [
    {
     "name": "stdout",
     "output_type": "stream",
     "text": [
      "Already up to date.\n"
     ]
    },
    {
     "name": "stderr",
     "output_type": "stream",
     "text": [
      "From https://github.com/safffrron/Know.Study.Help\n",
      " * branch            main       -> FETCH_HEAD\n"
     ]
    }
   ],
   "source": [
    "!git pull origin main"
   ]
  },
  {
   "cell_type": "code",
   "execution_count": 4,
   "id": "c8f8d736",
   "metadata": {},
   "outputs": [
    {
     "name": "stdout",
     "output_type": "stream",
     "text": [
      "Updating b07c0bb..aac5a22\n",
      "Fast-forward\n",
      " layout.txt | 20 ++++++++++++++++++++\n",
      " 1 file changed, 20 insertions(+)\n",
      " create mode 100644 layout.txt\n"
     ]
    },
    {
     "name": "stderr",
     "output_type": "stream",
     "text": [
      "From https://github.com/safffrron/Know.Study.Help\n",
      " * branch            sania      -> FETCH_HEAD\n",
      " * [new branch]      sania      -> origin/sania\n"
     ]
    }
   ],
   "source": [
    "!git pull origin sania"
   ]
  },
  {
   "cell_type": "code",
   "execution_count": 5,
   "id": "63c2b348",
   "metadata": {},
   "outputs": [
    {
     "name": "stderr",
     "output_type": "stream",
     "text": [
      "From https://github.com/safffrron/Know.Study.Help\n",
      " * branch            himadri    -> FETCH_HEAD\n",
      " * [new branch]      himadri    -> origin/himadri\n",
      "error: Your local changes to the following files would be overwritten by merge:\n",
      "  25m2111_assignment4.ipynb Know.Study.Help\n",
      "Merge with strategy ort failed.\n"
     ]
    }
   ],
   "source": [
    "!git pull origin himadri"
   ]
  },
  {
   "cell_type": "code",
   "execution_count": 6,
   "id": "25904b79",
   "metadata": {},
   "outputs": [
    {
     "name": "stdout",
     "output_type": "stream",
     "text": [
      "* kislay\n",
      "  main\n"
     ]
    }
   ],
   "source": [
    "!git branch"
   ]
  },
  {
   "cell_type": "code",
   "execution_count": 7,
   "id": "3bbe5907",
   "metadata": {},
   "outputs": [],
   "source": [
    "!git fetch origin"
   ]
  },
  {
   "cell_type": "code",
   "execution_count": 8,
   "id": "fd4f60c1",
   "metadata": {},
   "outputs": [
    {
     "name": "stdout",
     "output_type": "stream",
     "text": [
      "* kislay\n",
      "  main\n",
      "  remotes/origin/HEAD -> origin/main\n",
      "  remotes/origin/himadri\n",
      "  remotes/origin/kislay\n",
      "  remotes/origin/main\n",
      "  remotes/origin/sania\n"
     ]
    }
   ],
   "source": [
    "!git branch -a "
   ]
  },
  {
   "cell_type": "code",
   "execution_count": 9,
   "id": "1de5102c",
   "metadata": {},
   "outputs": [
    {
     "name": "stdout",
     "output_type": "stream",
     "text": [
      "* kislay\n",
      "  main\n"
     ]
    }
   ],
   "source": [
    "!git branch"
   ]
  },
  {
   "cell_type": "code",
   "execution_count": 10,
   "id": "cce3f590",
   "metadata": {},
   "outputs": [
    {
     "name": "stdout",
     "output_type": "stream",
     "text": [
      "A\t25m2111_assignment4.ipynb\n",
      "A\tKnow.Study.Help\n",
      "branch 'sania' set up to track 'origin/sania'.\n"
     ]
    },
    {
     "name": "stderr",
     "output_type": "stream",
     "text": [
      "Switched to a new branch 'sania'\n"
     ]
    }
   ],
   "source": [
    "!git checkout sania "
   ]
  },
  {
   "cell_type": "code",
   "execution_count": 11,
   "id": "39027475",
   "metadata": {},
   "outputs": [
    {
     "name": "stdout",
     "output_type": "stream",
     "text": [
      "  kislay\n",
      "  main\n",
      "* sania\n"
     ]
    }
   ],
   "source": [
    "!git branch "
   ]
  },
  {
   "cell_type": "code",
   "execution_count": 12,
   "id": "3f702a0b",
   "metadata": {},
   "outputs": [
    {
     "name": "stdout",
     "output_type": "stream",
     "text": [
      "A\t25m2111_assignment4.ipynb\n",
      "A\tKnow.Study.Help\n",
      "branch 'himadri' set up to track 'origin/himadri'.\n"
     ]
    },
    {
     "name": "stderr",
     "output_type": "stream",
     "text": [
      "Switched to a new branch 'himadri'\n"
     ]
    }
   ],
   "source": [
    "!git checkout himadri "
   ]
  },
  {
   "cell_type": "code",
   "execution_count": 13,
   "id": "8b1bd7d2",
   "metadata": {},
   "outputs": [
    {
     "name": "stdout",
     "output_type": "stream",
     "text": [
      "* himadri\n",
      "  kislay\n",
      "  main\n",
      "  sania\n"
     ]
    }
   ],
   "source": [
    "!git branch"
   ]
  },
  {
   "cell_type": "code",
   "execution_count": 14,
   "id": "36ad3a15",
   "metadata": {},
   "outputs": [
    {
     "name": "stdout",
     "output_type": "stream",
     "text": [
      "A\t25m2111_assignment4.ipynb\n",
      "A\tKnow.Study.Help\n",
      "Your branch is up to date with 'origin/sania'.\n"
     ]
    },
    {
     "name": "stderr",
     "output_type": "stream",
     "text": [
      "Switched to branch 'sania'\n"
     ]
    }
   ],
   "source": [
    "!git checkout sania "
   ]
  },
  {
   "cell_type": "code",
   "execution_count": 15,
   "id": "50615006",
   "metadata": {},
   "outputs": [
    {
     "name": "stdout",
     "output_type": "stream",
     "text": [
      "Already up to date.\n"
     ]
    },
    {
     "name": "stderr",
     "output_type": "stream",
     "text": [
      "From https://github.com/safffrron/Know.Study.Help\n",
      " * branch            sania      -> FETCH_HEAD\n"
     ]
    }
   ],
   "source": [
    "!git pull origin sania "
   ]
  },
  {
   "cell_type": "code",
   "execution_count": 16,
   "id": "72b93d99",
   "metadata": {},
   "outputs": [
    {
     "name": "stdout",
     "output_type": "stream",
     "text": [
      "A\t25m2111_assignment4.ipynb\n",
      "A\tKnow.Study.Help\n"
     ]
    },
    {
     "name": "stderr",
     "output_type": "stream",
     "text": [
      "Switched to branch 'kislay'\n"
     ]
    }
   ],
   "source": [
    "!git checkout kislay"
   ]
  },
  {
   "cell_type": "code",
   "execution_count": 18,
   "id": "b14d313e",
   "metadata": {},
   "outputs": [
    {
     "name": "stdout",
     "output_type": "stream",
     "text": [
      "[kislay c84674d] current status\n",
      " 2 files changed, 21 deletions(-)\n",
      " delete mode 160000 Know.Study.Help\n",
      " delete mode 100644 layout.txt\n"
     ]
    },
    {
     "name": "stderr",
     "output_type": "stream",
     "text": [
      "To https://github.com/safffrron/Know.Study.Help.git\n",
      "   a95a8c0..c84674d  kislay -> kislay\n"
     ]
    }
   ],
   "source": [
    "!git add .\n",
    "!git commit -m \"current status\"\n",
    "!git push origin kislay"
   ]
  },
  {
   "cell_type": "code",
   "execution_count": 19,
   "id": "3bd62023",
   "metadata": {},
   "outputs": [
    {
     "name": "stdout",
     "output_type": "stream",
     "text": [
      "Your branch is up to date with 'origin/sania'.\n"
     ]
    },
    {
     "name": "stderr",
     "output_type": "stream",
     "text": [
      "Switched to branch 'sania'\n"
     ]
    }
   ],
   "source": [
    "!git checkout sania"
   ]
  },
  {
   "cell_type": "code",
   "execution_count": 20,
   "id": "cec4899c",
   "metadata": {},
   "outputs": [
    {
     "name": "stderr",
     "output_type": "stream",
     "text": [
      "Switched to branch 'kislay'\n"
     ]
    }
   ],
   "source": [
    "!git checkout kislay"
   ]
  },
  {
   "cell_type": "code",
   "execution_count": 21,
   "id": "43bc2ead",
   "metadata": {},
   "outputs": [
    {
     "name": "stdout",
     "output_type": "stream",
     "text": [
      "Your branch is up to date with 'origin/himadri'.\n"
     ]
    },
    {
     "name": "stderr",
     "output_type": "stream",
     "text": [
      "Switched to branch 'himadri'\n"
     ]
    }
   ],
   "source": [
    "!git checkout himadri "
   ]
  },
  {
   "cell_type": "code",
   "execution_count": 22,
   "id": "7900fdb6",
   "metadata": {},
   "outputs": [
    {
     "name": "stdout",
     "output_type": "stream",
     "text": [
      "Already up to date.\n"
     ]
    },
    {
     "name": "stderr",
     "output_type": "stream",
     "text": [
      "From https://github.com/safffrron/Know.Study.Help\n",
      " * branch            himadri    -> FETCH_HEAD\n"
     ]
    }
   ],
   "source": [
    "!git pull origin himadri"
   ]
  },
  {
   "cell_type": "code",
   "execution_count": 23,
   "id": "1d698098",
   "metadata": {},
   "outputs": [
    {
     "name": "stderr",
     "output_type": "stream",
     "text": [
      "Switched to branch 'kislay'\n"
     ]
    }
   ],
   "source": [
    "!git checkout kislay"
   ]
  },
  {
   "cell_type": "code",
   "execution_count": 25,
   "id": "10600dee",
   "metadata": {},
   "outputs": [],
   "source": [
    "!echo \"Hi I'm Kislay\" >> team.txt"
   ]
  },
  {
   "cell_type": "code",
   "execution_count": 26,
   "id": "4caecac5",
   "metadata": {},
   "outputs": [],
   "source": [
    "!git add team.txt"
   ]
  },
  {
   "cell_type": "code",
   "execution_count": 27,
   "id": "2f429d4b",
   "metadata": {},
   "outputs": [
    {
     "name": "stdout",
     "output_type": "stream",
     "text": [
      "[kislay 3b731e7] added team.txt by kislay\n",
      " 1 file changed, 1 insertion(+)\n",
      " create mode 100644 team.txt\n"
     ]
    }
   ],
   "source": [
    "!git commit -m \"added team.txt by kislay\""
   ]
  },
  {
   "cell_type": "code",
   "execution_count": 28,
   "id": "af29c850",
   "metadata": {},
   "outputs": [
    {
     "name": "stdout",
     "output_type": "stream",
     "text": [
      "Your branch is up to date with 'origin/main'.\n"
     ]
    },
    {
     "name": "stderr",
     "output_type": "stream",
     "text": [
      "Switched to branch 'main'\n"
     ]
    }
   ],
   "source": [
    "!git checkout main"
   ]
  },
  {
   "cell_type": "code",
   "execution_count": 29,
   "id": "824acc5e",
   "metadata": {},
   "outputs": [
    {
     "name": "stdout",
     "output_type": "stream",
     "text": [
      "[main bc49512] added team.txt by kislay\n",
      " 1 file changed, 1 insertion(+)\n",
      " create mode 100644 team.txt\n"
     ]
    },
    {
     "name": "stderr",
     "output_type": "stream",
     "text": [
      "To https://github.com/safffrron/Know.Study.Help.git\n",
      " ! [rejected]        main -> main (fetch first)\n",
      "error: failed to push some refs to 'https://github.com/safffrron/Know.Study.Help.git'\n",
      "hint: Updates were rejected because the remote contains work that you do not\n",
      "hint: have locally. This is usually caused by another repository pushing to\n",
      "hint: the same ref. If you want to integrate the remote changes, use\n",
      "hint: 'git pull' before pushing again.\n",
      "hint: See the 'Note about fast-forwards' in 'git push --help' for details.\n"
     ]
    }
   ],
   "source": [
    "!echo \"Hi I'm Kislay\" >> team.txt\n",
    "!git add team.txt\n",
    "!git commit -m \"added team.txt by kislay\"\n",
    "!git push origin main "
   ]
  },
  {
   "cell_type": "code",
   "execution_count": 30,
   "id": "eeca9e1e",
   "metadata": {},
   "outputs": [
    {
     "name": "stdout",
     "output_type": "stream",
     "text": [
      "Auto-merging team.txt\n",
      "CONFLICT (add/add): Merge conflict in team.txt\n",
      "Automatic merge failed; fix conflicts and then commit the result.\n"
     ]
    },
    {
     "name": "stderr",
     "output_type": "stream",
     "text": [
      "From https://github.com/safffrron/Know.Study.Help\n",
      " * branch            main       -> FETCH_HEAD\n",
      "   b07c0bb..2118f83  main       -> origin/main\n"
     ]
    }
   ],
   "source": [
    "!git pull origin main"
   ]
  },
  {
   "cell_type": "code",
   "execution_count": 31,
   "id": "d5626eff",
   "metadata": {},
   "outputs": [],
   "source": [
    "!git add team.txt"
   ]
  },
  {
   "cell_type": "code",
   "execution_count": 32,
   "id": "123de3b1",
   "metadata": {},
   "outputs": [
    {
     "name": "stdout",
     "output_type": "stream",
     "text": [
      "[main 7f22a1a] Resolved merge conflict by accepting both changes\n"
     ]
    }
   ],
   "source": [
    "!git commit -m \"Resolved merge conflict by accepting both changes\""
   ]
  },
  {
   "cell_type": "code",
   "execution_count": 33,
   "id": "db1ed817",
   "metadata": {},
   "outputs": [
    {
     "name": "stdout",
     "output_type": "stream",
     "text": [
      "On branch main\n",
      "Your branch is ahead of 'origin/main' by 2 commits.\n",
      "  (use \"git push\" to publish your local commits)\n",
      "\n",
      "nothing to commit, working tree clean\n"
     ]
    }
   ],
   "source": [
    "!git status"
   ]
  },
  {
   "cell_type": "code",
   "execution_count": 34,
   "id": "284c04b3",
   "metadata": {},
   "outputs": [
    {
     "name": "stdout",
     "output_type": "stream",
     "text": [
      "commit 7f22a1a380e9a5e7833a735f0766196945f1f141\n",
      "Merge: bc49512 2118f83\n",
      "Author: safffrron <oasiskislay@gmail.com>\n",
      "Date:   Tue Sep 30 21:06:54 2025 +0530\n",
      "\n",
      "    Resolved merge conflict by accepting both changes\n",
      "\n",
      "commit bc4951210925b8bd4908a3f4eb699f402c7668f8\n",
      "Author: safffrron <oasiskislay@gmail.com>\n",
      "Date:   Tue Sep 30 21:03:21 2025 +0530\n",
      "\n",
      "    added team.txt by kislay\n",
      "\n",
      "commit 2118f83e6f121ec519a51a0bf255d330205a495e\n",
      "Author: KhokharSania <khokharsaania@gmail.com>\n",
      "Date:   Tue Sep 30 20:59:47 2025 +0530\n",
      "\n",
      "    conflict\n",
      "\n",
      "commit b07c0bb7fdfdf2d6debe5c75ca687050a469c67c\n",
      "Author: Kislay Aditya Oj <125828335+safffrron@users.noreply.github.com>\n",
      "Date:   Wed Sep 24 17:11:06 2025 +0530\n",
      "\n",
      "    Update README.md\n",
      "\n",
      "commit 268ec6d9704702b68df66216d406c6bdc579ded2\n",
      "Author: Kislay Aditya Oj <125828335+safffrron@users.noreply.github.com>\n",
      "Date:   Wed Sep 24 17:06:39 2025 +0530\n",
      "\n",
      "    Initial commit\n"
     ]
    }
   ],
   "source": [
    "!git log "
   ]
  },
  {
   "cell_type": "code",
   "execution_count": 35,
   "id": "2227c1c1",
   "metadata": {},
   "outputs": [
    {
     "name": "stderr",
     "output_type": "stream",
     "text": [
      "Switched to branch 'kislay'\n"
     ]
    }
   ],
   "source": [
    "!git checkout kislay"
   ]
  },
  {
   "cell_type": "code",
   "execution_count": 36,
   "id": "7d49c0fb",
   "metadata": {},
   "outputs": [
    {
     "name": "stdout",
     "output_type": "stream",
     "text": [
      "Your branch is ahead of 'origin/main' by 2 commits.\n",
      "  (use \"git push\" to publish your local commits)\n"
     ]
    },
    {
     "name": "stderr",
     "output_type": "stream",
     "text": [
      "Switched to branch 'main'\n"
     ]
    }
   ],
   "source": [
    "!git checkout main"
   ]
  },
  {
   "cell_type": "code",
   "execution_count": 37,
   "id": "fafc3036",
   "metadata": {},
   "outputs": [
    {
     "name": "stdout",
     "output_type": "stream",
     "text": [
      "Already up to date.\n"
     ]
    },
    {
     "name": "stderr",
     "output_type": "stream",
     "text": [
      "From https://github.com/safffrron/Know.Study.Help\n",
      " * branch            main       -> FETCH_HEAD\n"
     ]
    }
   ],
   "source": [
    "!git pull origin main"
   ]
  },
  {
   "cell_type": "code",
   "execution_count": 38,
   "id": "281d187d",
   "metadata": {},
   "outputs": [
    {
     "name": "stderr",
     "output_type": "stream",
     "text": [
      "To https://github.com/safffrron/Know.Study.Help.git\n",
      "   2118f83..7f22a1a  main -> main\n"
     ]
    }
   ],
   "source": [
    "!git push origin main"
   ]
  },
  {
   "cell_type": "code",
   "execution_count": 39,
   "id": "f7736e46",
   "metadata": {},
   "outputs": [
    {
     "name": "stderr",
     "output_type": "stream",
     "text": [
      "Switched to branch 'kislay'\n"
     ]
    }
   ],
   "source": [
    "!git checkout kislay"
   ]
  },
  {
   "cell_type": "code",
   "execution_count": 40,
   "id": "b8204543",
   "metadata": {},
   "outputs": [
    {
     "name": "stderr",
     "output_type": "stream",
     "text": [
      "warning: in the working copy of '25m2111_assignment4.ipynb', LF will be replaced by CRLF the next time Git touches it\n"
     ]
    },
    {
     "name": "stdout",
     "output_type": "stream",
     "text": [
      "[kislay 7eb5af6] added the assignment notebook\n",
      " 1 file changed, 896 insertions(+)\n"
     ]
    },
    {
     "name": "stderr",
     "output_type": "stream",
     "text": [
      "To https://github.com/safffrron/Know.Study.Help.git\n",
      "   c84674d..7eb5af6  kislay -> kislay\n"
     ]
    }
   ],
   "source": [
    "!git add . \n",
    "!git commit -m \"added the assignment notebook\"\n",
    "!git push origin kislay"
   ]
  },
  {
   "cell_type": "code",
   "execution_count": 41,
   "id": "207a1965",
   "metadata": {},
   "outputs": [
    {
     "name": "stdout",
     "output_type": "stream",
     "text": [
      "  himadri\n",
      "* kislay\n",
      "  main\n",
      "  sania\n"
     ]
    }
   ],
   "source": [
    "!git branch "
   ]
  },
  {
   "cell_type": "code",
   "execution_count": null,
   "id": "cca739a0",
   "metadata": {},
   "outputs": [],
   "source": []
  }
 ],
 "metadata": {
  "kernelspec": {
   "display_name": "Python 3",
   "language": "python",
   "name": "python3"
  },
  "language_info": {
   "codemirror_mode": {
    "name": "ipython",
    "version": 3
   },
   "file_extension": ".py",
   "mimetype": "text/x-python",
   "name": "python",
   "nbconvert_exporter": "python",
   "pygments_lexer": "ipython3",
   "version": "3.13.7"
  }
 },
 "nbformat": 4,
 "nbformat_minor": 5
}
