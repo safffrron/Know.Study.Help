{
 "cells": [
  {
   "cell_type": "markdown",
   "id": "55d761ed-feec-4f85-9f9b-bcac30dae5db",
   "metadata": {},
   "source": [
    "The repo is made by Kislay. \n",
    "Link: https://github.com/safffrron/Know.Study.Help.git\n",
    "NOTE-1: I HAVE RUN FEW INITIAL GIT-COMMANDS ON TERMINAL BEFORE, AND NOT RUNNING THEM HERE AGAIN; SO THAT MY OUTPUT DOES NOT GET WRONGLY AFFECTED.\n",
    "NOTE-2: OUTPUT OF SOME COMMANDS MAY SEEM OUT-OF-ORDER, SINCE I AM RE-RUNNING THEM AGAIN & AGAIN."
   ]
  },
  {
   "cell_type": "code",
   "execution_count": 1,
   "id": "6e5a9070-28ea-406e-a2e5-af02bd751303",
   "metadata": {},
   "outputs": [
    {
     "name": "stdout",
     "output_type": "stream",
     "text": [
      "git version 2.43.0\n"
     ]
    }
   ],
   "source": [
    "!git --version"
   ]
  },
  {
   "cell_type": "code",
   "execution_count": null,
   "id": "c45a0a6e-44b9-4e5c-ba57-834d96e445ae",
   "metadata": {},
   "outputs": [],
   "source": [
    "#These steps were performed in terminal. Therefore, not running these 2 cells here.\n",
    "#These commands were used before creating the virtual environment:\n",
    "!git init\n",
    "!git clone https://github.com/safffrron/Know.Study.Help.git"
   ]
  },
  {
   "cell_type": "code",
   "execution_count": null,
   "id": "699768ff-f591-4a75-9e48-bc91781bce56",
   "metadata": {},
   "outputs": [],
   "source": [
    "#After this, I made virtual environment, and activated it, using:\n",
    "python3 -m venv venv\n",
    "source venv/bin/activate"
   ]
  },
  {
   "cell_type": "code",
   "execution_count": null,
   "id": "72304073-43a7-42db-83c9-a7f23878d755",
   "metadata": {},
   "outputs": [],
   "source": [
    "!git status #since I have already made my own branch before and checked out to it, therefore this cell shows description of himadri branch."
   ]
  },
  {
   "cell_type": "code",
   "execution_count": 2,
   "id": "505c0990-6028-41f7-ae71-de7c8011409c",
   "metadata": {},
   "outputs": [],
   "source": [
    "!git config --global user.name \"Himadri-Mukadam\"\n",
    "!git config --global user.email \"mukadam.himadri@gmail.com\""
   ]
  },
  {
   "cell_type": "code",
   "execution_count": 3,
   "id": "42611264-812a-4183-bf73-482134e8fb08",
   "metadata": {},
   "outputs": [
    {
     "name": "stdout",
     "output_type": "stream",
     "text": [
      "* \u001b[32mhimadri\u001b[m\n",
      "  main\u001b[m\n"
     ]
    }
   ],
   "source": [
    "!git branch"
   ]
  },
  {
   "cell_type": "code",
   "execution_count": 4,
   "id": "0429a357-c002-4cc5-8670-57020c91c1e4",
   "metadata": {},
   "outputs": [
    {
     "name": "stdout",
     "output_type": "stream",
     "text": [
      "fatal: a branch named 'himadri' already exists\n"
     ]
    }
   ],
   "source": [
    "!git branch himadri #Since I already made 'himadri' branch through my terminal before, therefore this fatal error is showing up."
   ]
  },
  {
   "cell_type": "code",
   "execution_count": 5,
   "id": "89d2dfc1-5206-4927-bfae-ddffcfbc4160",
   "metadata": {},
   "outputs": [
    {
     "name": "stdout",
     "output_type": "stream",
     "text": [
      "Already on 'himadri'\n"
     ]
    }
   ],
   "source": [
    "!git checkout himadri #I am already present in 'himadri' branch (changed branch previously through terminal), therefore this output shows : Already on 'himadri'"
   ]
  },
  {
   "cell_type": "code",
   "execution_count": 6,
   "id": "6d529b20-927f-4666-be5e-3ea35b172c91",
   "metadata": {},
   "outputs": [
    {
     "name": "stdout",
     "output_type": "stream",
     "text": [
      "\u001b[0m\u001b[01;34m.\u001b[0m/   \u001b[01;34mflaskr\u001b[0m/  .gitignore           \u001b[01;34mPython_NB_SL\u001b[0m/  requirements.txt\n",
      "\u001b[01;34m..\u001b[0m/  \u001b[01;34m.git\u001b[0m/    \u001b[01;34m.ipynb_checkpoints\u001b[0m/  README.md      \u001b[01;34mvenv\u001b[0m/\n"
     ]
    }
   ],
   "source": [
    "ls -a .."
   ]
  },
  {
   "cell_type": "code",
   "execution_count": 12,
   "id": "1779339a-0988-47cf-9db8-65daecb7d536",
   "metadata": {},
   "outputs": [],
   "source": [
    "!git add ../flaskr/"
   ]
  },
  {
   "cell_type": "code",
   "execution_count": 13,
   "id": "077beb9d-fa4d-45b9-b01c-44d889a256dd",
   "metadata": {},
   "outputs": [],
   "source": [
    "!git add ../requirements.txt"
   ]
  },
  {
   "cell_type": "code",
   "execution_count": 7,
   "id": "b59ff4dc-df3e-47ef-884e-b58345d20a8b",
   "metadata": {},
   "outputs": [
    {
     "name": "stdout",
     "output_type": "stream",
     "text": [
      "On branch himadri\n",
      "Untracked files:\n",
      "  (use \"git add <file>...\" to include in what will be committed)\n",
      "\t\u001b[31m../.gitignore\u001b[m\n",
      "\n",
      "nothing added to commit but untracked files present (use \"git add\" to track)\n"
     ]
    }
   ],
   "source": [
    "!git status"
   ]
  },
  {
   "cell_type": "markdown",
   "id": "a1dfb326-71bf-4ff9-96f4-a31545870ffc",
   "metadata": {},
   "source": [
    "Next, I Made some local changes in 'himadri branch'...\n",
    "Then I created Personal Access Token (PAT) through GitHub: generated a classic token through which I can access my repos for push... \n",
    "Copied this token for future use..."
   ]
  },
  {
   "cell_type": "code",
   "execution_count": null,
   "id": "c8cb2fd0-49ec-4287-94eb-1dd2c89c1837",
   "metadata": {},
   "outputs": [],
   "source": [
    "#Ran these commands in terminal\n",
    "!git remote set-url origin https://Himadri-Mukadam:<token>@github.com/safffrron/Know.Study.Help.git\n",
    "!git pull\n",
    "!git pull origin himadri\n",
    "git commit -m \"Commit done through command prompt:)\"\n",
    "!git push origin himadri"
   ]
  },
  {
   "cell_type": "code",
   "execution_count": 8,
   "id": "168f4329-e0a9-44be-a6c3-add099e42cb2",
   "metadata": {},
   "outputs": [
    {
     "name": "stdout",
     "output_type": "stream",
     "text": [
      "remote: Enumerating objects: 9, done.\u001b[K\n",
      "remote: Counting objects: 100% (9/9), done.\u001b[K\n",
      "remote: Compressing objects: 100% (6/6), done.\u001b[K\n",
      "remote: Total 8 (delta 2), reused 7 (delta 1), pack-reused 0 (from 0)\u001b[K\n",
      "Unpacking objects: 100% (8/8), 876 bytes | 438.00 KiB/s, done.\n",
      "From https://github.com/safffrron/Know.Study.Help\n",
      "   b07c0bb..c84674d  kislay     -> origin/kislay\n",
      "   b07c0bb..aac5a22  sania      -> origin/sania\n",
      "There is no tracking information for the current branch.\n",
      "Please specify which branch you want to merge with.\n",
      "See git-pull(1) for details.\n",
      "\n",
      "    git pull <remote> <branch>\n",
      "\n",
      "If you wish to set tracking information for this branch you can do so with:\n",
      "\n",
      "    git branch --set-upstream-to=origin/<branch> himadri\n",
      "\n"
     ]
    }
   ],
   "source": [
    "#Then my teammates did some changes and I pulled again\n",
    "!git pull"
   ]
  },
  {
   "cell_type": "code",
   "execution_count": 25,
   "id": "247b143d-52b9-4ded-95ca-c09982287196",
   "metadata": {},
   "outputs": [
    {
     "name": "stdout",
     "output_type": "stream",
     "text": [
      "  himadri\u001b[m\n",
      "* \u001b[32mmain\u001b[m\n"
     ]
    }
   ],
   "source": [
    "!git branch"
   ]
  },
  {
   "cell_type": "code",
   "execution_count": 13,
   "id": "07f76bae-9ae6-4055-bf06-a8f632ffce38",
   "metadata": {},
   "outputs": [
    {
     "name": "stdout",
     "output_type": "stream",
     "text": [
      "Switched to branch 'main'\n",
      "Your branch is up to date with 'origin/main'.\n"
     ]
    }
   ],
   "source": [
    "!git checkout main"
   ]
  },
  {
   "cell_type": "code",
   "execution_count": 14,
   "id": "ae2b919e-f95b-453e-aae2-ec73dbedbccb",
   "metadata": {},
   "outputs": [],
   "source": [
    "#Then we decided to create conflict via team.txt file\n",
    "!echo \"Himadri\" > team.txt"
   ]
  },
  {
   "cell_type": "code",
   "execution_count": 17,
   "id": "45799ec0-51db-456b-a896-fe077e58758c",
   "metadata": {},
   "outputs": [],
   "source": [
    "mv team.txt ../team.txt"
   ]
  },
  {
   "cell_type": "code",
   "execution_count": 21,
   "id": "f09b67b2-10e0-456d-965e-cfc5b89504a1",
   "metadata": {
    "scrolled": true
   },
   "outputs": [
    {
     "name": "stdout",
     "output_type": "stream",
     "text": [
      "On branch main\n",
      "Your branch is up to date with 'origin/main'.\n",
      "\n",
      "Changes to be committed:\n",
      "  (use \"git restore --staged <file>...\" to unstage)\n",
      "\t\u001b[32mnew file:   ../team.txt\u001b[m\n",
      "\n",
      "Untracked files:\n",
      "  (use \"git add <file>...\" to include in what will be committed)\n",
      "\t\u001b[31m../.gitignore\u001b[m\n",
      "\n"
     ]
    }
   ],
   "source": [
    "!git status"
   ]
  },
  {
   "cell_type": "code",
   "execution_count": 20,
   "id": "08775046-714b-4d0a-852f-85cbde048ed2",
   "metadata": {},
   "outputs": [],
   "source": [
    "!git add ../team.txt"
   ]
  },
  {
   "cell_type": "code",
   "execution_count": 36,
   "id": "4c81e13e-1411-4a2f-982c-5f72267e4ef3",
   "metadata": {},
   "outputs": [
    {
     "name": "stdout",
     "output_type": "stream",
     "text": [
      "\u001b[31mHEAD detached at \u001b[m633ca6b\n",
      "Untracked files:\n",
      "  (use \"git add <file>...\" to include in what will be committed)\n",
      "\t\u001b[31m../.gitignore\u001b[m\n",
      "\n",
      "nothing added to commit but untracked files present (use \"git add\" to track)\n"
     ]
    }
   ],
   "source": [
    "#I have ran this command, therefore this output does not reflect my original commit of team.txt\n",
    "!git commit -m \"Conflict karo!!\""
   ]
  },
  {
   "cell_type": "code",
   "execution_count": 37,
   "id": "62a1f9ad-4132-4500-a10c-3befe52056db",
   "metadata": {},
   "outputs": [
    {
     "name": "stdout",
     "output_type": "stream",
     "text": [
      "HEAD is now at 633ca6b Conflict karo!!\n"
     ]
    }
   ],
   "source": [
    "#I wanted to experiment with what happens if I checkout to some other commit \n",
    "#(It was a bad choice :(  ...)\n",
    "!git checkout 633ca6b"
   ]
  },
  {
   "cell_type": "code",
   "execution_count": 42,
   "id": "1915ed54-a66e-4f95-8489-67ab49286cb8",
   "metadata": {},
   "outputs": [
    {
     "name": "stdout",
     "output_type": "stream",
     "text": [
      "To https://github.com/safffrron/Know.Study.Help.git\n",
      " \u001b[31m! [rejected]       \u001b[m main -> main (non-fast-forward)\n",
      "\u001b[31merror: failed to push some refs to 'https://github.com/safffrron/Know.Study.Help.git'\n",
      "\u001b[m\u001b[33mhint: Updates were rejected because the tip of your current branch is behind\u001b[m\n",
      "\u001b[33mhint: its remote counterpart. If you want to integrate the remote changes,\u001b[m\n",
      "\u001b[33mhint: use 'git pull' before pushing again.\u001b[m\n",
      "\u001b[33mhint: See the 'Note about fast-forwards' in 'git push --help' for details.\u001b[m\n"
     ]
    }
   ],
   "source": [
    "#Also, I was not allowed to push before pull... Hence this output. So I had to do pull..!\n",
    "!git push origin main"
   ]
  },
  {
   "cell_type": "code",
   "execution_count": 43,
   "id": "db1afdbd-34b8-4083-a0ad-872effd91fad",
   "metadata": {},
   "outputs": [
    {
     "name": "stdout",
     "output_type": "stream",
     "text": [
      "From https://github.com/safffrron/Know.Study.Help\n",
      " * branch            main       -> FETCH_HEAD\n",
      "Auto-merging team.txt\n",
      "CONFLICT (add/add): Merge conflict in team.txt\n",
      "error: could not apply 633ca6b... Conflict karo!!\n",
      "\u001b[33mhint: Resolve all conflicts manually, mark them as resolved with\u001b[m\n",
      "\u001b[33mhint: \"git add/rm <conflicted_files>\", then run \"git rebase --continue\".\u001b[m\n",
      "\u001b[33mhint: You can instead skip this commit: run \"git rebase --skip\".\u001b[m\n",
      "\u001b[33mhint: To abort and get back to the state before \"git rebase\", run \"git rebase --abort\".\u001b[m\n",
      "Could not apply 633ca6b... Conflict karo!!\n"
     ]
    }
   ],
   "source": [
    "#git gave me conflict for team.txt when I tried to pull\n",
    "#Also, I had a detached HEAD now because I checked out. So it was creating more errors I guess..\n",
    "#Used rebase to try and linearize various commits..\n",
    "!git pull --rebase origin main"
   ]
  },
  {
   "cell_type": "code",
   "execution_count": 44,
   "id": "48e39e16-af9f-4301-a790-e143daa694be",
   "metadata": {},
   "outputs": [
    {
     "name": "stdout",
     "output_type": "stream",
     "text": [
      "\u001b[31minteractive rebase in progress; onto \u001b[m2118f83\n",
      "Last command done (1 command done):\n",
      "   pick 633ca6b Conflict karo!!\n",
      "No commands remaining.\n",
      "You are currently rebasing branch 'main' on '2118f83'.\n",
      "  (fix conflicts and then run \"git rebase --continue\")\n",
      "  (use \"git rebase --skip\" to skip this patch)\n",
      "  (use \"git rebase --abort\" to check out the original branch)\n",
      "\n",
      "Unmerged paths:\n",
      "  (use \"git restore --staged <file>...\" to unstage)\n",
      "  (use \"git add <file>...\" to mark resolution)\n",
      "\t\u001b[31mboth added:      ../team.txt\u001b[m\n",
      "\n",
      "Untracked files:\n",
      "  (use \"git add <file>...\" to include in what will be committed)\n",
      "\t\u001b[31m../.gitignore\u001b[m\n",
      "\n",
      "no changes added to commit (use \"git add\" and/or \"git commit -a\")\n"
     ]
    }
   ],
   "source": [
    "!git status"
   ]
  },
  {
   "cell_type": "code",
   "execution_count": 45,
   "id": "841422d7-c9be-46bd-93ce-c2f27e8d180e",
   "metadata": {},
   "outputs": [
    {
     "name": "stdout",
     "output_type": "stream",
     "text": [
      "team.txt: needs merge\n",
      "You must edit all merge conflicts and then\n",
      "mark them as resolved using git add\n"
     ]
    }
   ],
   "source": [
    "!git rebase --continue"
   ]
  },
  {
   "cell_type": "code",
   "execution_count": 47,
   "id": "5dcbe6e8-4c66-474b-b664-18b71d736a61",
   "metadata": {},
   "outputs": [
    {
     "name": "stdout",
     "output_type": "stream",
     "text": [
      "Switched to a new branch 'my-temp-branch'\n"
     ]
    }
   ],
   "source": [
    "#This was some workaround solution to get out of detached HEAD, that I had created by doing the checkout shown previously...\n",
    "!git checkout -b my-temp-branch\n"
   ]
  },
  {
   "cell_type": "code",
   "execution_count": 48,
   "id": "e9a50723-7c96-4f22-b6a0-f78f1c1d2649",
   "metadata": {},
   "outputs": [
    {
     "name": "stdout",
     "output_type": "stream",
     "text": [
      "team.txt: needs merge\n",
      "error: you need to resolve your current index first\n"
     ]
    }
   ],
   "source": [
    "#This workaround did not work as well.. I am still unable to understand why..!\n",
    "!git checkout main"
   ]
  },
  {
   "cell_type": "code",
   "execution_count": 49,
   "id": "58d898df-afc6-4f6d-b1b2-e6df0744e70c",
   "metadata": {},
   "outputs": [
    {
     "name": "stdout",
     "output_type": "stream",
     "text": [
      "error: Merging is not possible because you have unmerged files.\n",
      "\u001b[33mhint: Fix them up in the work tree, and then use 'git add/rm <file>'\u001b[m\n",
      "\u001b[33mhint: as appropriate to mark resolution and make a commit.\u001b[m\n",
      "fatal: Exiting because of an unresolved conflict.\n"
     ]
    }
   ],
   "source": [
    "!git merge my-temp-branch"
   ]
  },
  {
   "cell_type": "code",
   "execution_count": 51,
   "id": "48ef11d2-00bd-4b74-b8b9-d0d1cfb27878",
   "metadata": {},
   "outputs": [],
   "source": [
    "#Then I read the comments of all the errors, that this command might get me to main branch (out of detached HEAD).. And it did!\n",
    "!git rebase --abort"
   ]
  },
  {
   "cell_type": "code",
   "execution_count": 52,
   "id": "ea2c00fa-beba-4690-9e00-e941b8bf1457",
   "metadata": {},
   "outputs": [
    {
     "name": "stdout",
     "output_type": "stream",
     "text": [
      "On branch main\n",
      "Your branch and 'origin/main' have diverged,\n",
      "and have 1 and 1 different commits each, respectively.\n",
      "  (use \"git pull\" if you want to integrate the remote branch with yours)\n",
      "\n",
      "Untracked files:\n",
      "  (use \"git add <file>...\" to include in what will be committed)\n",
      "\t\u001b[31m../.gitignore\u001b[m\n",
      "\n",
      "nothing added to commit but untracked files present (use \"git add\" to track)\n"
     ]
    }
   ],
   "source": [
    "!git status"
   ]
  },
  {
   "cell_type": "code",
   "execution_count": 54,
   "id": "ba284068-62ba-4576-b821-01bac35d411f",
   "metadata": {},
   "outputs": [
    {
     "name": "stdout",
     "output_type": "stream",
     "text": [
      "From https://github.com/safffrron/Know.Study.Help\n",
      " * branch            main       -> FETCH_HEAD\n",
      "\u001b[33mhint: You have divergent branches and need to specify how to reconcile them.\u001b[m\n",
      "\u001b[33mhint: You can do so by running one of the following commands sometime before\u001b[m\n",
      "\u001b[33mhint: your next pull:\u001b[m\n",
      "\u001b[33mhint: \u001b[m\n",
      "\u001b[33mhint:   git config pull.rebase false  # merge\u001b[m\n",
      "\u001b[33mhint:   git config pull.rebase true   # rebase\u001b[m\n",
      "\u001b[33mhint:   git config pull.ff only       # fast-forward only\u001b[m\n",
      "\u001b[33mhint: \u001b[m\n",
      "\u001b[33mhint: You can replace \"git config\" with \"git config --global\" to set a default\u001b[m\n",
      "\u001b[33mhint: preference for all repositories. You can also pass --rebase, --no-rebase,\u001b[m\n",
      "\u001b[33mhint: or --ff-only on the command line to override the configured default per\u001b[m\n",
      "\u001b[33mhint: invocation.\u001b[m\n",
      "fatal: Need to specify how to reconcile divergent branches.\n"
     ]
    }
   ],
   "source": [
    "#Still pull was not working due to divergent branches \n",
    "!git pull origin main"
   ]
  },
  {
   "cell_type": "code",
   "execution_count": 56,
   "id": "1576b1e0-f510-45b5-a2a7-88a999b1cf3f",
   "metadata": {},
   "outputs": [
    {
     "name": "stdout",
     "output_type": "stream",
     "text": [
      "rm 'team.txt'\n"
     ]
    }
   ],
   "source": [
    "#Thought of removing this  file entirely! Maybe that might help... But it didn't, because still pull wasn't working correctly..\n",
    "!git rm ../team.txt"
   ]
  },
  {
   "cell_type": "code",
   "execution_count": 57,
   "id": "2968469d-07a2-4953-9b02-70664e5e6501",
   "metadata": {},
   "outputs": [
    {
     "name": "stdout",
     "output_type": "stream",
     "text": [
      "From https://github.com/safffrron/Know.Study.Help\n",
      " * branch            main       -> FETCH_HEAD\n",
      "\u001b[33mhint: You have divergent branches and need to specify how to reconcile them.\u001b[m\n",
      "\u001b[33mhint: You can do so by running one of the following commands sometime before\u001b[m\n",
      "\u001b[33mhint: your next pull:\u001b[m\n",
      "\u001b[33mhint: \u001b[m\n",
      "\u001b[33mhint:   git config pull.rebase false  # merge\u001b[m\n",
      "\u001b[33mhint:   git config pull.rebase true   # rebase\u001b[m\n",
      "\u001b[33mhint:   git config pull.ff only       # fast-forward only\u001b[m\n",
      "\u001b[33mhint: \u001b[m\n",
      "\u001b[33mhint: You can replace \"git config\" with \"git config --global\" to set a default\u001b[m\n",
      "\u001b[33mhint: preference for all repositories. You can also pass --rebase, --no-rebase,\u001b[m\n",
      "\u001b[33mhint: or --ff-only on the command line to override the configured default per\u001b[m\n",
      "\u001b[33mhint: invocation.\u001b[m\n",
      "fatal: Need to specify how to reconcile divergent branches.\n"
     ]
    }
   ],
   "source": [
    "!git pull origin main"
   ]
  },
  {
   "cell_type": "code",
   "execution_count": 60,
   "id": "314f8474-4b9a-4d43-90b2-aa71b5d30ea9",
   "metadata": {},
   "outputs": [
    {
     "name": "stdout",
     "output_type": "stream",
     "text": [
      "error: cannot pull with rebase: Your index contains uncommitted changes.\n",
      "error: Please commit or stash them.\n"
     ]
    }
   ],
   "source": [
    "!git pull --rebase origin main\n"
   ]
  },
  {
   "cell_type": "code",
   "execution_count": 61,
   "id": "943075b2-f1a3-4dbc-8f8e-98dd30bf0ca3",
   "metadata": {
    "scrolled": true
   },
   "outputs": [
    {
     "name": "stdout",
     "output_type": "stream",
     "text": [
      "[main 59df067] This is frustrating!!!!\n",
      " 1 file changed, 1 deletion(-)\n",
      " delete mode 100644 team.txt\n"
     ]
    }
   ],
   "source": [
    "!git commit -m \"This is frustrating!!!!\""
   ]
  },
  {
   "cell_type": "code",
   "execution_count": 66,
   "id": "7a815ee0-0ae8-4ca7-892f-2e82e84f7b16",
   "metadata": {},
   "outputs": [],
   "source": [
    "!git rebase --abort\n"
   ]
  },
  {
   "cell_type": "code",
   "execution_count": 68,
   "id": "a259b87b-0626-4bc5-b95d-38b3ad6673dd",
   "metadata": {},
   "outputs": [
    {
     "name": "stdout",
     "output_type": "stream",
     "text": [
      "Already on 'main'\n",
      "Your branch and 'origin/main' have diverged,\n",
      "and have 2 and 3 different commits each, respectively.\n",
      "  (use \"git pull\" if you want to integrate the remote branch with yours)\n"
     ]
    }
   ],
   "source": [
    "!git checkout main"
   ]
  },
  {
   "cell_type": "code",
   "execution_count": 70,
   "id": "adfe524c-f411-4002-9489-9166e1289aa8",
   "metadata": {},
   "outputs": [
    {
     "name": "stdout",
     "output_type": "stream",
     "text": [
      "remote: Enumerating objects: 8, done.\u001b[K\n",
      "remote: Counting objects: 100% (8/8), done.\u001b[K\n",
      "remote: Compressing objects: 100% (4/4), done.\u001b[K\n",
      "remote: Total 6 (delta 1), reused 6 (delta 1), pack-reused 0 (from 0)\u001b[K\n",
      "Unpacking objects: 100% (6/6), 3.40 KiB | 1.70 MiB/s, done.\n",
      "From https://github.com/safffrron/Know.Study.Help\n",
      "   c84674d..7eb5af6  kislay     -> origin/kislay\n",
      "HEAD is now at 7f22a1a Resolved merge conflict by accepting both changes\n"
     ]
    }
   ],
   "source": [
    "#Finally I decided to drop all my messed up changes and do a hard-reset, so that my local main branch is similar to that of remote main branch\n",
    "!git fetch origin\n",
    "!git reset --hard origin/main\n"
   ]
  },
  {
   "cell_type": "code",
   "execution_count": 71,
   "id": "ea24eae7-78d7-4d04-83f9-4b3adbc73af9",
   "metadata": {},
   "outputs": [
    {
     "name": "stdout",
     "output_type": "stream",
     "text": [
      "On branch main\n",
      "Your branch is up to date with 'origin/main'.\n",
      "\n",
      "Untracked files:\n",
      "  (use \"git add <file>...\" to include in what will be committed)\n",
      "\t\u001b[31m../.gitignore\u001b[m\n",
      "\n",
      "nothing added to commit but untracked files present (use \"git add\" to track)\n"
     ]
    }
   ],
   "source": [
    "#Finally!!!!!!!! Got a cleaner version of local main branch!\n",
    "!git status"
   ]
  },
  {
   "cell_type": "code",
   "execution_count": 72,
   "id": "0a6ef935-4ce8-4bbe-992a-219df7c0bf80",
   "metadata": {},
   "outputs": [],
   "source": [
    "#Then I added this file again to my local branch, commited it and pushed it. This file expresses my true emotions here!\n",
    "!echo \"This is frustrating!!!!!!!!!!!!!!!!!!!!!!!!!!!!!!!!!!!!!!!!!!!!\"> ../team.txt "
   ]
  },
  {
   "cell_type": "code",
   "execution_count": 74,
   "id": "74923da4-a4eb-4952-8f78-7d9faf6df30b",
   "metadata": {},
   "outputs": [],
   "source": [
    "!git add ../team.txt"
   ]
  },
  {
   "cell_type": "code",
   "execution_count": 75,
   "id": "c0fc31b9-a4a9-4025-8feb-31e1d665ead0",
   "metadata": {},
   "outputs": [
    {
     "name": "stdout",
     "output_type": "stream",
     "text": [
      "[main c81920e] Finally conflicts resolved!\n",
      " 1 file changed, 1 insertion(+), 5 deletions(-)\n"
     ]
    }
   ],
   "source": [
    "!git commit -m \"Finally conflicts resolved!\""
   ]
  },
  {
   "cell_type": "code",
   "execution_count": 76,
   "id": "4e0b4648-699a-43db-a2b8-05b24809332b",
   "metadata": {},
   "outputs": [
    {
     "name": "stdout",
     "output_type": "stream",
     "text": [
      "Enumerating objects: 5, done.\n",
      "Counting objects: 100% (5/5), done.\n",
      "Delta compression using up to 4 threads\n",
      "Compressing objects: 100% (3/3), done.\n",
      "Writing objects: 100% (3/3), 318 bytes | 318.00 KiB/s, done.\n",
      "Total 3 (delta 0), reused 0 (delta 0), pack-reused 0\n",
      "To https://github.com/safffrron/Know.Study.Help.git\n",
      "   7f22a1a..c81920e  main -> main\n"
     ]
    }
   ],
   "source": [
    "!git push origin main"
   ]
  },
  {
   "cell_type": "markdown",
   "id": "481baea9-9c8b-4e01-88c7-18e63b1ff67e",
   "metadata": {},
   "source": [
    "Hence, these are the challenges I faced and overcame with this assignment"
   ]
  },
  {
   "cell_type": "code",
   "execution_count": 77,
   "id": "0853d31c-77ed-4d89-b811-8d30b7dda9ab",
   "metadata": {},
   "outputs": [
    {
     "name": "stdout",
     "output_type": "stream",
     "text": [
      "\u001b[33mcommit c81920ed784d73d445140784238e05c229249181\u001b[m\u001b[33m (\u001b[m\u001b[1;36mHEAD\u001b[m\u001b[33m -> \u001b[m\u001b[1;32mmain\u001b[m\u001b[33m, \u001b[m\u001b[1;31morigin/main\u001b[m\u001b[33m, \u001b[m\u001b[1;31morigin/HEAD\u001b[m\u001b[33m)\u001b[m\n",
      "Author: Himadri-Mukadam <mukadam.himadri@gmail.com>\n",
      "Date:   Tue Sep 30 21:37:43 2025 +0530\n",
      "\n",
      "    Finally conflicts resolved!\n",
      "\n",
      "\u001b[33mcommit 7f22a1a380e9a5e7833a735f0766196945f1f141\u001b[m\n",
      "Merge: bc49512 2118f83\n",
      "Author: safffrron <oasiskislay@gmail.com>\n",
      "Date:   Tue Sep 30 21:06:54 2025 +0530\n",
      "\n",
      "    Resolved merge conflict by accepting both changes\n",
      "\n",
      "\u001b[33mcommit bc4951210925b8bd4908a3f4eb699f402c7668f8\u001b[m\n",
      "Author: safffrron <oasiskislay@gmail.com>\n",
      "Date:   Tue Sep 30 21:03:21 2025 +0530\n",
      "\n",
      "    added team.txt by kislay\n",
      "\n",
      "\u001b[33mcommit 2118f83e6f121ec519a51a0bf255d330205a495e\u001b[m\u001b[33m (\u001b[m\u001b[1;32mmy-temp-branch\u001b[m\u001b[33m)\u001b[m\n",
      "Author: KhokharSania <khokharsaania@gmail.com>\n",
      "Date:   Tue Sep 30 20:59:47 2025 +0530\n",
      "\n",
      "    conflict\n",
      "\n",
      "\u001b[33mcommit b07c0bb7fdfdf2d6debe5c75ca687050a469c67c\u001b[m\n",
      "Author: Kislay Aditya Oj <125828335+safffrron@users.noreply.github.com>\n",
      "Date:   Wed Sep 24 17:11:06 2025 +0530\n",
      "\n",
      "    Update README.md\n",
      "\n",
      "\u001b[33mcommit 268ec6d9704702b68df66216d406c6bdc579ded2\u001b[m\n",
      "Author: Kislay Aditya Oj <125828335+safffrron@users.noreply.github.com>\n",
      "Date:   Wed Sep 24 17:06:39 2025 +0530\n",
      "\n",
      "    Initial commit\n"
     ]
    }
   ],
   "source": [
    "!git log"
   ]
  },
  {
   "cell_type": "code",
   "execution_count": null,
   "id": "b8694e8c-34b2-4f68-8f93-46d338b1c317",
   "metadata": {},
   "outputs": [],
   "source": []
  }
 ],
 "metadata": {
  "kernelspec": {
   "display_name": "Python 3 (ipykernel)",
   "language": "python",
   "name": "python3"
  },
  "language_info": {
   "codemirror_mode": {
    "name": "ipython",
    "version": 3
   },
   "file_extension": ".py",
   "mimetype": "text/x-python",
   "name": "python",
   "nbconvert_exporter": "python",
   "pygments_lexer": "ipython3",
   "version": "3.12.3"
  }
 },
 "nbformat": 4,
 "nbformat_minor": 5
}
